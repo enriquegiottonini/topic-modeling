{
 "cells": [
  {
   "attachments": {},
   "cell_type": "markdown",
   "metadata": {},
   "source": [
    "## Procesamiento de Lenguaje Natural\n",
    "\n",
    "*Proyecto Final: **Modelado de Tópicos*** \n",
    "\n",
    "# ***Análisis exploratorio de datos***\n",
    "\n",
    "### **Equipo:**\n",
    "\n",
    "- Giottonini Herrera Enrique Alejandro\n",
    "- Burruel Durán Luis Andrés\n",
    "- Villalba Miranda Jesús Abraham\n",
    "- Oscar\n",
    "\n",
    "**Fuentes**\n",
    "* Los datos fueron obtenidos de [@nostradata ](https://www.nostrodata.com) en [`GitHub`](https://github.com/NOSTRODATA/conferencias_matutinas_amlo)\n",
    "---"
   ]
  },
  {
   "attachments": {},
   "cell_type": "markdown",
   "metadata": {},
   "source": [
    "## **Objetivo**\n",
    "\n",
    "El propósito es realizar un análisis exploratorio sobre los datos crudos para tener una base en la toma de desiciones con respecto al pre-procesamiento de datos (limpieza, normalización, etc.) para nuestra tarea final, el `modelado de topicos`."
   ]
  },
  {
   "cell_type": "code",
   "execution_count": null,
   "metadata": {},
   "outputs": [],
   "source": []
  }
 ],
 "metadata": {
  "language_info": {
   "name": "python"
  },
  "orig_nbformat": 4
 },
 "nbformat": 4,
 "nbformat_minor": 2
}
