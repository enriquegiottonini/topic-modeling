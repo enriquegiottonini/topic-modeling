{
 "cells": [
  {
   "attachments": {},
   "cell_type": "markdown",
   "metadata": {},
   "source": [
    "# Recolección de datos\n",
    "\n",
    "Como un primer acercamiento a realizar *'topic modeling'*, se utilizará un conjunto de transcripciones de las mañaneras de Andrés Manuel López Obrador, presidente de México. \n",
    "\n",
    "El conjunto de datos se encuentra disponible en el siguiente repositorio [https://github.com/NOSTRODATA/conferencias_matutinas_amlo] gracias al equipo de `@nostrodata`.\n",
    "\n",
    "Para recolectar los datos a partir de el repositorio, se utilizará un `data crawler` que encuentre los url a partir del árbol del repositorio de los datos relevantes.\n",
    "\n"
   ]
  },
  {
   "cell_type": "code",
   "execution_count": 19,
   "metadata": {},
   "outputs": [
    {
     "name": "stdout",
     "output_type": "stream",
     "text": [
      "Archivos encontrados: 1037 (mañaneras)\n"
     ]
    }
   ],
   "source": [
    "from data_crawler import file_crawler, clean_cache\n",
    "\n",
    "repo = \"enriquegiottonini/conferencias_matutinas_amlo\"\n",
    "branch = \"master\"\n",
    "dest = \"data\"\n",
    "start_date = \"01-01-2018\"\n",
    "end_date = \"31-12-2023\"\n",
    "\n",
    "# clean_cache(repo, branch, dest)\n",
    "data_paths = file_crawler(repo, branch, dest)\n",
    "print(f\"Archivos encontrados: {len(data_paths)} (mañaneras)\")"
   ]
  },
  {
   "attachments": {},
   "cell_type": "markdown",
   "metadata": {},
   "source": [
    "Después se implementó un programa que descargara los archivos `.csv` del repositorio, obtuviera solo la columna de texto y los agrupara por semana en un solo archivo de `.txt` para su posterior análisis."
   ]
  },
  {
   "cell_type": "code",
   "execution_count": 15,
   "metadata": {},
   "outputs": [
    {
     "name": "stdout",
     "output_type": "stream",
     "text": [
      "Data already fetched\n"
     ]
    }
   ],
   "source": [
    "from data_fetcher import fetch_data, clean_data\n",
    "\n",
    "fetch_data(repo, branch, dest, start_date, end_date)"
   ]
  },
  {
   "cell_type": "code",
   "execution_count": 20,
   "metadata": {},
   "outputs": [
    {
     "name": "stdout",
     "output_type": "stream",
     "text": [
      "Documentos generados: 219 (semanas)\n"
     ]
    }
   ],
   "source": [
    "import os\n",
    "cantidad_semanas = len(os.listdir(dest))\n",
    "print(f\"Documentos generados: {cantidad_semanas} (semanas)\")"
   ]
  }
 ],
 "metadata": {
  "kernelspec": {
   "display_name": "Python 3",
   "language": "python",
   "name": "python3"
  },
  "language_info": {
   "codemirror_mode": {
    "name": "ipython",
    "version": 3
   },
   "file_extension": ".py",
   "mimetype": "text/x-python",
   "name": "python",
   "nbconvert_exporter": "python",
   "pygments_lexer": "ipython3",
   "version": "3.10.6"
  },
  "orig_nbformat": 4
 },
 "nbformat": 4,
 "nbformat_minor": 2
}
